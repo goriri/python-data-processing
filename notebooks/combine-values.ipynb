{
 "cells": [
  {
   "cell_type": "code",
   "execution_count": 8,
   "outputs": [
    {
     "data": {
      "text/plain": "    name         text      month\n0  name1           du 2014-11-02\n1  name1           aj 2014-12-01\n2  name1           oj 2014-12-02\n3  name2          fin 2014-11-01\n4  name2         katt 2014-11-02\n5  name2  mycket,lite 2014-12-01",
      "text/html": "<div>\n<style scoped>\n    .dataframe tbody tr th:only-of-type {\n        vertical-align: middle;\n    }\n\n    .dataframe tbody tr th {\n        vertical-align: top;\n    }\n\n    .dataframe thead th {\n        text-align: right;\n    }\n</style>\n<table border=\"1\" class=\"dataframe\">\n  <thead>\n    <tr style=\"text-align: right;\">\n      <th></th>\n      <th>name</th>\n      <th>text</th>\n      <th>month</th>\n    </tr>\n  </thead>\n  <tbody>\n    <tr>\n      <th>0</th>\n      <td>name1</td>\n      <td>du</td>\n      <td>2014-11-02</td>\n    </tr>\n    <tr>\n      <th>1</th>\n      <td>name1</td>\n      <td>aj</td>\n      <td>2014-12-01</td>\n    </tr>\n    <tr>\n      <th>2</th>\n      <td>name1</td>\n      <td>oj</td>\n      <td>2014-12-02</td>\n    </tr>\n    <tr>\n      <th>3</th>\n      <td>name2</td>\n      <td>fin</td>\n      <td>2014-11-01</td>\n    </tr>\n    <tr>\n      <th>4</th>\n      <td>name2</td>\n      <td>katt</td>\n      <td>2014-11-02</td>\n    </tr>\n    <tr>\n      <th>5</th>\n      <td>name2</td>\n      <td>mycket,lite</td>\n      <td>2014-12-01</td>\n    </tr>\n  </tbody>\n</table>\n</div>"
     },
     "execution_count": 8,
     "metadata": {},
     "output_type": "execute_result"
    }
   ],
   "source": [
    "import pandas as pd\n",
    "\n",
    "df = pd.read_csv(\"../data/source.csv\", parse_dates=[2])\n",
    "\n",
    "df['text'] = df[['name','text','month']].groupby(['name','month'])['text'].transform(lambda x: ','.join(x))\n",
    "df[['name','text','month']].drop_duplicates()\n",
    "\n",
    "# df.to_csv(\"../data/result.csv\", index=False)"
   ],
   "metadata": {
    "collapsed": false,
    "pycharm": {
     "name": "#%%\n"
    }
   }
  },
  {
   "cell_type": "code",
   "execution_count": null,
   "outputs": [],
   "source": [],
   "metadata": {
    "collapsed": false,
    "pycharm": {
     "name": "#%%\n"
    }
   }
  }
 ],
 "metadata": {
  "kernelspec": {
   "display_name": "Python 3",
   "language": "python",
   "name": "python3"
  },
  "language_info": {
   "codemirror_mode": {
    "name": "ipython",
    "version": 2
   },
   "file_extension": ".py",
   "mimetype": "text/x-python",
   "name": "python",
   "nbconvert_exporter": "python",
   "pygments_lexer": "ipython2",
   "version": "2.7.6"
  }
 },
 "nbformat": 4,
 "nbformat_minor": 0
}